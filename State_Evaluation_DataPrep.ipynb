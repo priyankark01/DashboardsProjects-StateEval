{
 "cells": [
  {
   "cell_type": "markdown",
   "metadata": {},
   "source": [
    "# Data preperation for Dashboards - State_Evaluation project"
   ]
  },
  {
   "cell_type": "markdown",
   "metadata": {},
   "source": [
    "<p> <h3> Summary </h3> <ol> \n",
    "<li> I have taken multiple files and an URL and read them into seperate dataframes </li>\n",
    "<li> I have cleaned the data as required. From each frame, I have reatined State and the required parameter/s </li>\n",
    "<li> Finally I am merging the dataframes by state and writing the merged dataframe into csv file </li> </ol> </p>"
   ]
  },
  {
   "cell_type": "code",
   "execution_count": 1,
   "metadata": {
    "collapsed": true
   },
   "outputs": [],
   "source": [
    "#Importing all the required libraries\n",
    "\n",
    "import pandas as pd\n",
    "import numpy as np\n",
    "import math\n",
    "import xlrd"
   ]
  },
  {
   "cell_type": "code",
   "execution_count": 2,
   "metadata": {
    "collapsed": true
   },
   "outputs": [],
   "source": [
    "#Making a list of all the states in United States. This list will be reused across multiple datasets as a filter\n",
    "\n",
    "states = ['Alabama','Alaska','Arizona','Arkansas','California','Colorado',\n",
    "         'Connecticut','Delaware','Florida','Georgia','Hawaii','Idaho', \n",
    "         'Illinois','Indiana','Iowa','Kansas','Kentucky','Louisiana',\n",
    "         'Maine' 'Maryland','Massachusetts','Michigan','Minnesota',\n",
    "         'Mississippi', 'Missouri','Montana','Nebraska','Nevada',\n",
    "         'New Hampshire','New Jersey','New Mexico','New York',\n",
    "         'North Carolina','North Dakota','Ohio',    \n",
    "         'Oklahoma','Oregon','Pennsylvania','Rhode Island',\n",
    "         'South  Carolina','South Dakota','Tennessee','Texas','Utah',\n",
    "         'Vermont','Virginia','Washington','West Virginia',\n",
    "         'Wisconsin','Wyoming']"
   ]
  },
  {
   "cell_type": "markdown",
   "metadata": {},
   "source": [
    "### Business parameters preperation"
   ]
  },
  {
   "cell_type": "code",
   "execution_count": 3,
   "metadata": {
    "collapsed": true
   },
   "outputs": [],
   "source": [
    "state_rank_url = \"http://www.cnbc.com/2016/07/12/americas-top-states-for-business-2016-the-list-and-ranking.html\"\n",
    "state_ranking_data = pd.read_html(state_rank_url, header = 0)[0]\n",
    "state_ranking_data = pd.read_html(state_rank_url, header = 0)[0]"
   ]
  },
  {
   "cell_type": "code",
   "execution_count": 4,
   "metadata": {
    "collapsed": false
   },
   "outputs": [
    {
     "data": {
      "text/html": [
       "<div>\n",
       "<table border=\"1\" class=\"dataframe\">\n",
       "  <thead>\n",
       "    <tr style=\"text-align: right;\">\n",
       "      <th></th>\n",
       "      <th>Overall</th>\n",
       "      <th>State</th>\n",
       "      <th>Workforce</th>\n",
       "      <th>Cost of Doing Business</th>\n",
       "      <th>Infra-structure</th>\n",
       "      <th>Economy</th>\n",
       "      <th>Quality of Life</th>\n",
       "      <th>Technology and Innovation</th>\n",
       "      <th>Education</th>\n",
       "      <th>Business Friendliness</th>\n",
       "      <th>Cost of Living</th>\n",
       "      <th>Access to Capital</th>\n",
       "    </tr>\n",
       "  </thead>\n",
       "  <tbody>\n",
       "    <tr>\n",
       "      <th>0</th>\n",
       "      <td>1</td>\n",
       "      <td>Utah</td>\n",
       "      <td>12</td>\n",
       "      <td>19</td>\n",
       "      <td>13</td>\n",
       "      <td>3</td>\n",
       "      <td>13</td>\n",
       "      <td>16</td>\n",
       "      <td>23</td>\n",
       "      <td>10</td>\n",
       "      <td>22</td>\n",
       "      <td>24</td>\n",
       "    </tr>\n",
       "    <tr>\n",
       "      <th>1</th>\n",
       "      <td>2</td>\n",
       "      <td>Texas</td>\n",
       "      <td>8</td>\n",
       "      <td>23</td>\n",
       "      <td>2</td>\n",
       "      <td>1</td>\n",
       "      <td>37</td>\n",
       "      <td>10</td>\n",
       "      <td>40</td>\n",
       "      <td>18</td>\n",
       "      <td>21</td>\n",
       "      <td>7</td>\n",
       "    </tr>\n",
       "    <tr>\n",
       "      <th>2</th>\n",
       "      <td>3</td>\n",
       "      <td>Colorado</td>\n",
       "      <td>1</td>\n",
       "      <td>37</td>\n",
       "      <td>29</td>\n",
       "      <td>2</td>\n",
       "      <td>12</td>\n",
       "      <td>8</td>\n",
       "      <td>25</td>\n",
       "      <td>9</td>\n",
       "      <td>32</td>\n",
       "      <td>8</td>\n",
       "    </tr>\n",
       "    <tr>\n",
       "      <th>3</th>\n",
       "      <td>4</td>\n",
       "      <td>Minnesota</td>\n",
       "      <td>15</td>\n",
       "      <td>35</td>\n",
       "      <td>5</td>\n",
       "      <td>17</td>\n",
       "      <td>2</td>\n",
       "      <td>9</td>\n",
       "      <td>2</td>\n",
       "      <td>27</td>\n",
       "      <td>27</td>\n",
       "      <td>21</td>\n",
       "    </tr>\n",
       "    <tr>\n",
       "      <th>4</th>\n",
       "      <td>5</td>\n",
       "      <td>North Carolina</td>\n",
       "      <td>9</td>\n",
       "      <td>18</td>\n",
       "      <td>30</td>\n",
       "      <td>11</td>\n",
       "      <td>30</td>\n",
       "      <td>7</td>\n",
       "      <td>28</td>\n",
       "      <td>15</td>\n",
       "      <td>18</td>\n",
       "      <td>2</td>\n",
       "    </tr>\n",
       "  </tbody>\n",
       "</table>\n",
       "</div>"
      ],
      "text/plain": [
       "   Overall           State  Workforce  Cost of Doing Business  \\\n",
       "0        1            Utah         12                      19   \n",
       "1        2           Texas          8                      23   \n",
       "2        3        Colorado          1                      37   \n",
       "3        4       Minnesota         15                      35   \n",
       "4        5  North Carolina          9                      18   \n",
       "\n",
       "   Infra-structure  Economy  Quality of Life  Technology and Innovation  \\\n",
       "0               13        3               13                         16   \n",
       "1                2        1               37                         10   \n",
       "2               29        2               12                          8   \n",
       "3                5       17                2                          9   \n",
       "4               30       11               30                          7   \n",
       "\n",
       "   Education  Business Friendliness  Cost of Living  Access to Capital  \n",
       "0         23                     10              22                 24  \n",
       "1         40                     18              21                  7  \n",
       "2         25                      9              32                  8  \n",
       "3          2                     27              27                 21  \n",
       "4         28                     15              18                  2  "
      ]
     },
     "execution_count": 4,
     "metadata": {},
     "output_type": "execute_result"
    }
   ],
   "source": [
    "state_ranking_data.head(5)"
   ]
  },
  {
   "cell_type": "markdown",
   "metadata": {},
   "source": [
    "### Education levels data"
   ]
  },
  {
   "cell_type": "code",
   "execution_count": 5,
   "metadata": {
    "collapsed": true
   },
   "outputs": [],
   "source": [
    "# The data is obtained at county level. Hence aggregating at a state level. We need the percentage of high school \n",
    "# graduates and above. Hence subtracting Percent of adults with less than a high school diploma from 100.\n",
    "\n",
    "education_data = pd.read_excel('Education.xls', skiprows=4)\n",
    "education_data = education_data[education_data['Area name'].isin(states)]\n",
    "education_data['% of adults with high school diploma'] = 100 - education_data['Percent of adults with less than a high school diploma, 2011-2015']\n",
    "education_data = education_data[['Area name','% of adults with high school diploma']]\n",
    "education_data = education_data.rename(columns={'Area name': 'State'})"
   ]
  },
  {
   "cell_type": "code",
   "execution_count": 6,
   "metadata": {
    "collapsed": false
   },
   "outputs": [
    {
     "data": {
      "text/html": [
       "<div>\n",
       "<table border=\"1\" class=\"dataframe\">\n",
       "  <thead>\n",
       "    <tr style=\"text-align: right;\">\n",
       "      <th></th>\n",
       "      <th>State</th>\n",
       "      <th>% of adults with high school diploma</th>\n",
       "    </tr>\n",
       "  </thead>\n",
       "  <tbody>\n",
       "    <tr>\n",
       "      <th>1</th>\n",
       "      <td>Alabama</td>\n",
       "      <td>84.3</td>\n",
       "    </tr>\n",
       "    <tr>\n",
       "      <th>69</th>\n",
       "      <td>Alaska</td>\n",
       "      <td>92.1</td>\n",
       "    </tr>\n",
       "    <tr>\n",
       "      <th>106</th>\n",
       "      <td>Arizona</td>\n",
       "      <td>86.0</td>\n",
       "    </tr>\n",
       "    <tr>\n",
       "      <th>122</th>\n",
       "      <td>Arkansas</td>\n",
       "      <td>84.8</td>\n",
       "    </tr>\n",
       "    <tr>\n",
       "      <th>198</th>\n",
       "      <td>California</td>\n",
       "      <td>81.8</td>\n",
       "    </tr>\n",
       "  </tbody>\n",
       "</table>\n",
       "</div>"
      ],
      "text/plain": [
       "          State  % of adults with high school diploma\n",
       "1       Alabama                                  84.3\n",
       "69       Alaska                                  92.1\n",
       "106     Arizona                                  86.0\n",
       "122    Arkansas                                  84.8\n",
       "198  California                                  81.8"
      ]
     },
     "execution_count": 6,
     "metadata": {},
     "output_type": "execute_result"
    }
   ],
   "source": [
    "education_data.head(5)"
   ]
  },
  {
   "cell_type": "markdown",
   "metadata": {},
   "source": [
    "### Unemplyment rates data"
   ]
  },
  {
   "cell_type": "code",
   "execution_count": 9,
   "metadata": {
    "collapsed": true
   },
   "outputs": [],
   "source": [
    "# This data is obtained both at county level and state level. Retaining only state level data\n",
    "\n",
    "unemp_raw = pd.read_excel('Unemployment.xls', skiprows = 7)\n",
    "unemp_raw = unemp_raw[unemp_raw['Area_name'].isin(states)]\n",
    "unemp_data = unemp_raw[['Area_name','Unemployment_rate_2015']]\n",
    "unemp_data = unemp_data.rename(columns={'Area_name': 'State', 'Unemployment_rate_2015': 'Unemplyment_rate'})"
   ]
  },
  {
   "cell_type": "code",
   "execution_count": 10,
   "metadata": {
    "collapsed": false
   },
   "outputs": [
    {
     "data": {
      "text/html": [
       "<div>\n",
       "<table border=\"1\" class=\"dataframe\">\n",
       "  <thead>\n",
       "    <tr style=\"text-align: right;\">\n",
       "      <th></th>\n",
       "      <th>State</th>\n",
       "      <th>Unemplyment_rate</th>\n",
       "    </tr>\n",
       "  </thead>\n",
       "  <tbody>\n",
       "    <tr>\n",
       "      <th>0</th>\n",
       "      <td>Alabama</td>\n",
       "      <td>6.1</td>\n",
       "    </tr>\n",
       "    <tr>\n",
       "      <th>68</th>\n",
       "      <td>Alaska</td>\n",
       "      <td>6.5</td>\n",
       "    </tr>\n",
       "    <tr>\n",
       "      <th>101</th>\n",
       "      <td>Arizona</td>\n",
       "      <td>6.1</td>\n",
       "    </tr>\n",
       "    <tr>\n",
       "      <th>117</th>\n",
       "      <td>Arkansas</td>\n",
       "      <td>5.2</td>\n",
       "    </tr>\n",
       "    <tr>\n",
       "      <th>193</th>\n",
       "      <td>California</td>\n",
       "      <td>6.2</td>\n",
       "    </tr>\n",
       "  </tbody>\n",
       "</table>\n",
       "</div>"
      ],
      "text/plain": [
       "          State Unemplyment_rate\n",
       "0       Alabama              6.1\n",
       "68       Alaska              6.5\n",
       "101     Arizona              6.1\n",
       "117    Arkansas              5.2\n",
       "193  California              6.2"
      ]
     },
     "execution_count": 10,
     "metadata": {},
     "output_type": "execute_result"
    }
   ],
   "source": [
    "unemp_data.head()"
   ]
  },
  {
   "cell_type": "markdown",
   "metadata": {},
   "source": [
    "### Crime data "
   ]
  },
  {
   "cell_type": "code",
   "execution_count": 11,
   "metadata": {
    "collapsed": true
   },
   "outputs": [],
   "source": [
    "# This data is obtained both at county level and state level. Retaining only state level data and differentiating \n",
    "# crimes into 2 broad categories - Felony and Robbery\n",
    "\n",
    "crime_raw = pd.read_excel('US Crime Data.xlsx',converters={'Location Ref Code':str})\n",
    "crime_raw.drop(['Location','Location RegionId','Indicator','Location UNITED STATES','Location US','Scale','Units'], axis=1, inplace=True)\n",
    "crime_raw = crime_raw[crime_raw['Location Name'].isin(states)]\n",
    "crime_raw = crime_raw[crime_raw['Indicator Name'].isin(['Number of Violent Crimes Known to Police','Number of Property Crimes Known to Police'])]\n",
    "crime_raw = crime_raw[crime_raw['Location Name'].isin(states)]\n",
    "crime_raw = crime_raw[crime_raw['Indicator Name'].isin(['Number of Violent Crimes Known to Police','Number of Property Crimes Known to Police'])]\n",
    "crime_raw.dropna(subset = ['Location Ref Code'], inplace = True)\n",
    "crime_raw['Felony'] = crime_raw[crime_raw['Indicator Name'].isin(['Number of Violent Crimes Known to Police'])]['2015']\n",
    "crime_raw['Robbery'] = crime_raw[crime_raw['Indicator Name'].isin(['Number of Property Crimes Known to Police'])]['2015']\n",
    "crime_data = crime_raw.groupby(by = 'Location Name')['Felony','Robbery'].sum().reset_index()\n",
    "crime_data = crime_data.rename(columns={'Location Name': 'State'})"
   ]
  },
  {
   "cell_type": "code",
   "execution_count": 12,
   "metadata": {
    "collapsed": false
   },
   "outputs": [
    {
     "data": {
      "text/html": [
       "<div>\n",
       "<table border=\"1\" class=\"dataframe\">\n",
       "  <thead>\n",
       "    <tr style=\"text-align: right;\">\n",
       "      <th></th>\n",
       "      <th>State</th>\n",
       "      <th>Felony</th>\n",
       "      <th>Robbery</th>\n",
       "    </tr>\n",
       "  </thead>\n",
       "  <tbody>\n",
       "    <tr>\n",
       "      <th>0</th>\n",
       "      <td>Alabama</td>\n",
       "      <td>3954.0</td>\n",
       "      <td>25447.0</td>\n",
       "    </tr>\n",
       "    <tr>\n",
       "      <th>1</th>\n",
       "      <td>Arizona</td>\n",
       "      <td>3098.0</td>\n",
       "      <td>23053.0</td>\n",
       "    </tr>\n",
       "    <tr>\n",
       "      <th>2</th>\n",
       "      <td>Arkansas</td>\n",
       "      <td>3352.0</td>\n",
       "      <td>18035.0</td>\n",
       "    </tr>\n",
       "    <tr>\n",
       "      <th>3</th>\n",
       "      <td>California</td>\n",
       "      <td>24994.0</td>\n",
       "      <td>105500.0</td>\n",
       "    </tr>\n",
       "    <tr>\n",
       "      <th>4</th>\n",
       "      <td>Colorado</td>\n",
       "      <td>2469.0</td>\n",
       "      <td>17928.0</td>\n",
       "    </tr>\n",
       "  </tbody>\n",
       "</table>\n",
       "</div>"
      ],
      "text/plain": [
       "        State   Felony   Robbery\n",
       "0     Alabama   3954.0   25447.0\n",
       "1     Arizona   3098.0   23053.0\n",
       "2    Arkansas   3352.0   18035.0\n",
       "3  California  24994.0  105500.0\n",
       "4    Colorado   2469.0   17928.0"
      ]
     },
     "execution_count": 12,
     "metadata": {},
     "output_type": "execute_result"
    }
   ],
   "source": [
    "crime_data.head()"
   ]
  },
  {
   "cell_type": "markdown",
   "metadata": {},
   "source": [
    "### Population estimates"
   ]
  },
  {
   "cell_type": "code",
   "execution_count": 16,
   "metadata": {
    "collapsed": false
   },
   "outputs": [],
   "source": [
    "pop_estimate = pd.read_excel('PopulationEstimates.xls', skiprows=2)\n",
    "pop_estimate = pop_estimate[pop_estimate['Area_Name'].isin(states)]\n",
    "pop_estimate = pop_estimate[['Area_Name','POP_ESTIMATE_2015']]\n",
    "pop_estimate = pop_estimate.rename(columns={'Area_Name': 'State', 'POP_ESTIMATE_2015': 'Population_Estimate'})"
   ]
  },
  {
   "cell_type": "code",
   "execution_count": 17,
   "metadata": {
    "collapsed": false
   },
   "outputs": [
    {
     "data": {
      "text/html": [
       "<div>\n",
       "<table border=\"1\" class=\"dataframe\">\n",
       "  <thead>\n",
       "    <tr style=\"text-align: right;\">\n",
       "      <th></th>\n",
       "      <th>State</th>\n",
       "      <th>Population_Estimate</th>\n",
       "    </tr>\n",
       "  </thead>\n",
       "  <tbody>\n",
       "    <tr>\n",
       "      <th>1</th>\n",
       "      <td>Alabama</td>\n",
       "      <td>4853875</td>\n",
       "    </tr>\n",
       "    <tr>\n",
       "      <th>69</th>\n",
       "      <td>Alaska</td>\n",
       "      <td>737709</td>\n",
       "    </tr>\n",
       "    <tr>\n",
       "      <th>99</th>\n",
       "      <td>Arizona</td>\n",
       "      <td>6817565</td>\n",
       "    </tr>\n",
       "    <tr>\n",
       "      <th>115</th>\n",
       "      <td>Arkansas</td>\n",
       "      <td>2977853</td>\n",
       "    </tr>\n",
       "    <tr>\n",
       "      <th>191</th>\n",
       "      <td>California</td>\n",
       "      <td>38993940</td>\n",
       "    </tr>\n",
       "  </tbody>\n",
       "</table>\n",
       "</div>"
      ],
      "text/plain": [
       "          State  Population_Estimate\n",
       "1       Alabama              4853875\n",
       "69       Alaska               737709\n",
       "99      Arizona              6817565\n",
       "115    Arkansas              2977853\n",
       "191  California             38993940"
      ]
     },
     "execution_count": 17,
     "metadata": {},
     "output_type": "execute_result"
    }
   ],
   "source": [
    "pop_estimate.head(5)"
   ]
  },
  {
   "cell_type": "markdown",
   "metadata": {},
   "source": [
    "### Merging all the dataframes by state and writing the merged dataframe into csv file"
   ]
  },
  {
   "cell_type": "code",
   "execution_count": 19,
   "metadata": {
    "collapsed": false
   },
   "outputs": [
    {
     "data": {
      "text/html": [
       "<div>\n",
       "<table border=\"1\" class=\"dataframe\">\n",
       "  <thead>\n",
       "    <tr style=\"text-align: right;\">\n",
       "      <th></th>\n",
       "      <th>Overall</th>\n",
       "      <th>State</th>\n",
       "      <th>Workforce</th>\n",
       "      <th>Cost of Doing Business</th>\n",
       "      <th>Infra-structure</th>\n",
       "      <th>Economy</th>\n",
       "      <th>Quality of Life</th>\n",
       "      <th>Technology and Innovation</th>\n",
       "      <th>Education</th>\n",
       "      <th>Business Friendliness</th>\n",
       "      <th>Cost of Living</th>\n",
       "      <th>Access to Capital</th>\n",
       "      <th>Population_Estimate</th>\n",
       "      <th>Unemplyment_rate</th>\n",
       "      <th>% of adults with high school diploma</th>\n",
       "      <th>Felony</th>\n",
       "      <th>Robbery</th>\n",
       "    </tr>\n",
       "  </thead>\n",
       "  <tbody>\n",
       "    <tr>\n",
       "      <th>0</th>\n",
       "      <td>1</td>\n",
       "      <td>Utah</td>\n",
       "      <td>12</td>\n",
       "      <td>19</td>\n",
       "      <td>13</td>\n",
       "      <td>3</td>\n",
       "      <td>13</td>\n",
       "      <td>16</td>\n",
       "      <td>23</td>\n",
       "      <td>10</td>\n",
       "      <td>22</td>\n",
       "      <td>24</td>\n",
       "      <td>2990632</td>\n",
       "      <td>3.5</td>\n",
       "      <td>91.2</td>\n",
       "      <td>1270.0</td>\n",
       "      <td>16333.0</td>\n",
       "    </tr>\n",
       "    <tr>\n",
       "      <th>1</th>\n",
       "      <td>2</td>\n",
       "      <td>Texas</td>\n",
       "      <td>8</td>\n",
       "      <td>23</td>\n",
       "      <td>2</td>\n",
       "      <td>1</td>\n",
       "      <td>37</td>\n",
       "      <td>10</td>\n",
       "      <td>40</td>\n",
       "      <td>18</td>\n",
       "      <td>21</td>\n",
       "      <td>7</td>\n",
       "      <td>27429639</td>\n",
       "      <td>4.5</td>\n",
       "      <td>81.9</td>\n",
       "      <td>21060.0</td>\n",
       "      <td>122184.0</td>\n",
       "    </tr>\n",
       "    <tr>\n",
       "      <th>2</th>\n",
       "      <td>3</td>\n",
       "      <td>Colorado</td>\n",
       "      <td>1</td>\n",
       "      <td>37</td>\n",
       "      <td>29</td>\n",
       "      <td>2</td>\n",
       "      <td>12</td>\n",
       "      <td>8</td>\n",
       "      <td>25</td>\n",
       "      <td>9</td>\n",
       "      <td>32</td>\n",
       "      <td>8</td>\n",
       "      <td>5448819</td>\n",
       "      <td>3.9</td>\n",
       "      <td>90.7</td>\n",
       "      <td>2469.0</td>\n",
       "      <td>17928.0</td>\n",
       "    </tr>\n",
       "    <tr>\n",
       "      <th>3</th>\n",
       "      <td>4</td>\n",
       "      <td>Minnesota</td>\n",
       "      <td>15</td>\n",
       "      <td>35</td>\n",
       "      <td>5</td>\n",
       "      <td>17</td>\n",
       "      <td>2</td>\n",
       "      <td>9</td>\n",
       "      <td>2</td>\n",
       "      <td>27</td>\n",
       "      <td>27</td>\n",
       "      <td>21</td>\n",
       "      <td>5482435</td>\n",
       "      <td>3.7</td>\n",
       "      <td>92.4</td>\n",
       "      <td>1434.0</td>\n",
       "      <td>16336.0</td>\n",
       "    </tr>\n",
       "    <tr>\n",
       "      <th>4</th>\n",
       "      <td>5</td>\n",
       "      <td>North Carolina</td>\n",
       "      <td>9</td>\n",
       "      <td>18</td>\n",
       "      <td>30</td>\n",
       "      <td>11</td>\n",
       "      <td>30</td>\n",
       "      <td>7</td>\n",
       "      <td>28</td>\n",
       "      <td>15</td>\n",
       "      <td>18</td>\n",
       "      <td>2</td>\n",
       "      <td>10035186</td>\n",
       "      <td>5.7</td>\n",
       "      <td>85.8</td>\n",
       "      <td>4683.0</td>\n",
       "      <td>50396.0</td>\n",
       "    </tr>\n",
       "  </tbody>\n",
       "</table>\n",
       "</div>"
      ],
      "text/plain": [
       "   Overall           State  Workforce  Cost of Doing Business  \\\n",
       "0        1            Utah         12                      19   \n",
       "1        2           Texas          8                      23   \n",
       "2        3        Colorado          1                      37   \n",
       "3        4       Minnesota         15                      35   \n",
       "4        5  North Carolina          9                      18   \n",
       "\n",
       "   Infra-structure  Economy  Quality of Life  Technology and Innovation  \\\n",
       "0               13        3               13                         16   \n",
       "1                2        1               37                         10   \n",
       "2               29        2               12                          8   \n",
       "3                5       17                2                          9   \n",
       "4               30       11               30                          7   \n",
       "\n",
       "   Education  Business Friendliness  Cost of Living  Access to Capital  \\\n",
       "0         23                     10              22                 24   \n",
       "1         40                     18              21                  7   \n",
       "2         25                      9              32                  8   \n",
       "3          2                     27              27                 21   \n",
       "4         28                     15              18                  2   \n",
       "\n",
       "   Population_Estimate Unemplyment_rate  % of adults with high school diploma  \\\n",
       "0              2990632              3.5                                  91.2   \n",
       "1             27429639              4.5                                  81.9   \n",
       "2              5448819              3.9                                  90.7   \n",
       "3              5482435              3.7                                  92.4   \n",
       "4             10035186              5.7                                  85.8   \n",
       "\n",
       "    Felony   Robbery  \n",
       "0   1270.0   16333.0  \n",
       "1  21060.0  122184.0  \n",
       "2   2469.0   17928.0  \n",
       "3   1434.0   16336.0  \n",
       "4   4683.0   50396.0  "
      ]
     },
     "execution_count": 19,
     "metadata": {},
     "output_type": "execute_result"
    }
   ],
   "source": [
    "df_combine = [state_ranking_data, pop_estimate, unemp_data, education_data]\n",
    "tableau_data = reduce(lambda left,right: pd.merge(left,right,on='State'), df_combine)\n",
    "tableau_data = pd.merge(tableau_data, crime_data, how='left', on=['State'])\n",
    "tableau_data.head(5)"
   ]
  },
  {
   "cell_type": "code",
   "execution_count": 20,
   "metadata": {
    "collapsed": true
   },
   "outputs": [],
   "source": [
    "# Writing the cleaned dataframe into csv file with no index\n",
    "tableau_data.to_csv('State_Evaluation.csv', sep=';', index=False)"
   ]
  }
 ],
 "metadata": {
  "kernelspec": {
   "display_name": "Python 2",
   "language": "python",
   "name": "python2"
  },
  "language_info": {
   "codemirror_mode": {
    "name": "ipython",
    "version": 2
   },
   "file_extension": ".py",
   "mimetype": "text/x-python",
   "name": "python",
   "nbconvert_exporter": "python",
   "pygments_lexer": "ipython2",
   "version": "2.7.11"
  }
 },
 "nbformat": 4,
 "nbformat_minor": 0
}
